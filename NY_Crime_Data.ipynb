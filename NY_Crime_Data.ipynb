{
 "cells": [
  {
   "cell_type": "markdown",
   "id": "a8dbe746",
   "metadata": {},
   "source": [
    "<h1><center>Real World Data Science: <br>Visualizing New York Crime Data</center></h1>\n",
    "\n",
    "<img src=\"https://static-assets.ny.gov/sites/all/themes/ny_gov/images/nygov-logo.png\">\n"
   ]
  },
  {
   "cell_type": "markdown",
   "id": "0410e0eb",
   "metadata": {},
   "source": [
    "## Step 1: Gather Data\n",
    "<hr>"
   ]
  },
  {
   "cell_type": "code",
   "execution_count": null,
   "id": "4819f010",
   "metadata": {
    "scrolled": true
   },
   "outputs": [],
   "source": [
    "# Load the dataset from the NY Open Data Portal \n",
    "# Using the API (2010-Current year data)\n",
    "\n",
    "# make sure to install these packages before running:\n",
    "# pip3 install pandas\n",
    "# pip3 install sodapy\n",
    "\n",
    "import pandas as pd\n",
    "import numpy as np\n",
    "from sodapy import Socrata\n",
    "\n",
    "# Unauthenticated client only works with public data sets. Note 'None'\n",
    "# in place of application token, and no username or password:\n",
    "client = Socrata(\"data.ny.gov\", None)\n",
    "\n",
    "# First 200k results, returned as JSON from API / converted to Python list of\n",
    "# dictionaries by sodapy.\n",
    "\n",
    "### Pro-tip #1 - Limit your download from the source for large datasets ###\n",
    "### Download only a subset from 2011-Current (best practice for bandwidth and processing to download only data needed)\n",
    "### A more complex clause here could limit columns, but typically we want to preserve variables/featurs/columns\n",
    "\n",
    "results = client.get(\"ca8h-8gjq.\", where='year >2010', limit=200000)\n",
    "\n",
    "# Convert to pandas DataFrame\n",
    "results_df = pd.DataFrame.from_records(results)"
   ]
  },
  {
   "cell_type": "code",
   "execution_count": null,
   "id": "75f80198",
   "metadata": {
    "scrolled": true
   },
   "outputs": [],
   "source": [
    "### Pro-tip #2 After you download data save a copy in case it changes at the source and to save future bandwidth\n",
    "### Compress csv files to further save space! \n",
    "\n",
    "compression_opts = dict(method='zip', archive_name='nys_total_crime.csv')  \n",
    "results_df.to_csv('nys_total_crime.zip', index=False, compression=compression_opts)  \n",
    "\n",
    "# Un-comment code below to restore the saved data\n",
    "#import pandas as pd\n",
    "#import numpy as np\n",
    "#results_df = pd.read_csv('nys_total_crime.zip', compression='zip', header=0, sep=',', quotechar='\"')"
   ]
  },
  {
   "cell_type": "markdown",
   "id": "6320dc57",
   "metadata": {},
   "source": [
    "## Step 2: Verify the Import\n",
    "<hr>"
   ]
  },
  {
   "cell_type": "code",
   "execution_count": null,
   "id": "60f8328b",
   "metadata": {
    "scrolled": true
   },
   "outputs": [],
   "source": [
    "### Pro-tip #3 Check the number of rows and columns matches what was sent / downloaded\n",
    "# 7099,15 as of 10-26-2022\n",
    "results_df.shape"
   ]
  },
  {
   "cell_type": "code",
   "execution_count": null,
   "id": "86300aad",
   "metadata": {
    "scrolled": true
   },
   "outputs": [],
   "source": [
    "# What does the dataframe look like? \n",
    "results_df.dtypes"
   ]
  },
  {
   "cell_type": "code",
   "execution_count": null,
   "id": "3d9e2e79",
   "metadata": {
    "scrolled": true
   },
   "outputs": [],
   "source": [
    "# Check for Null/NaN values\n",
    "results_df.isnull().sum()"
   ]
  },
  {
   "cell_type": "markdown",
   "id": "6a8ace59",
   "metadata": {},
   "source": [
    "## Step 3: Data Hygiene and Transforms\n",
    "<hr>"
   ]
  },
  {
   "cell_type": "code",
   "execution_count": null,
   "id": "dcdd9e67",
   "metadata": {
    "scrolled": true
   },
   "outputs": [],
   "source": [
    "### Pro-tip #4 Make sure the datatypes are correct for data you will be analyzing, keep only the data you need\n",
    "\n",
    "# Sometimes data-types are messy when importing data, below is code so you can fix this if the import isn't OK\n",
    "# Regardless of the original source/method\n",
    "# Ensure data types are correct for analysis\n",
    "\n",
    "results_df['county'] = results_df['county'].astype(str)\n",
    "results_df['agency'] = results_df['agency'].astype(str)\n",
    "results_df['year'] = results_df['year'].astype(int)\n",
    "results_df['total_index_crimes'] = results_df['total_index_crimes'].astype(int)\n",
    "results_df['violent'] = results_df['violent'].astype(int)\n",
    "results_df['property'] = results_df['property'].astype(int)"
   ]
  },
  {
   "cell_type": "code",
   "execution_count": null,
   "id": "13214964",
   "metadata": {
    "scrolled": true
   },
   "outputs": [],
   "source": [
    "# Keep only certain columns - Saves on memory, processing, and disk/cloud size\n",
    "results_df = results_df[['county', 'agency', 'year', 'total_index_crimes', 'violent', 'property']]"
   ]
  },
  {
   "cell_type": "code",
   "execution_count": null,
   "id": "16de2f54",
   "metadata": {
    "scrolled": true
   },
   "outputs": [],
   "source": [
    "# Re-check to make sure they are correct!\n",
    "results_df.dtypes"
   ]
  },
  {
   "cell_type": "code",
   "execution_count": null,
   "id": "4cf982f0",
   "metadata": {
    "scrolled": true
   },
   "outputs": [],
   "source": [
    "# Roll-up to county-year level and rename column headings for rolled-up dataframes\n",
    "# I am rolling these up one at a time to show a merge later! \n",
    "# Analysis of these other variables is not shown in the interest of time\n",
    "\n",
    "crimes_total_df=results_df.groupby([\"county\", \"year\"], as_index=False)[\"total_index_crimes\"].sum()\n",
    "crimes_total_df.columns = ['county', 'year', 'index_total']\n",
    "\n",
    "# always check every intermediary step! \n",
    "crimes_total_df.head()"
   ]
  },
  {
   "cell_type": "code",
   "execution_count": null,
   "id": "129334a7",
   "metadata": {
    "scrolled": true
   },
   "outputs": [],
   "source": [
    "violent_crimes_df=results_df.groupby([\"county\", \"year\"], as_index=False)[\"violent\"].sum()\n",
    "violent_crimes_df.columns = ['county', 'year', 'violent_total']\n",
    "\n",
    "violent_crimes_df.head()"
   ]
  },
  {
   "cell_type": "code",
   "execution_count": null,
   "id": "f6e15f60",
   "metadata": {
    "scrolled": true
   },
   "outputs": [],
   "source": [
    "property_crimes_df=results_df.groupby([\"county\", \"year\"], as_index=False)[\"property\"].sum()\n",
    "property_crimes_df.columns = ['county', 'year', 'property_total']\n",
    "\n",
    "property_crimes_df.head()"
   ]
  },
  {
   "cell_type": "code",
   "execution_count": null,
   "id": "5c4d16c2",
   "metadata": {
    "scrolled": true
   },
   "outputs": [],
   "source": [
    "# This merge is unnecessary in the context of this presentation; however, it is included here \n",
    "# for use in a future project. \n",
    "\n",
    "# Merge The Datasets Length-Wise\n",
    "from functools import reduce\n",
    "\n",
    "#define list of DataFrames\n",
    "dfs = [crimes_total_df, violent_crimes_df, property_crimes_df]\n",
    "\n",
    "#merge all DataFrames into one\n",
    "county_year_df = reduce(lambda  left,right: pd.merge(left,right,on=['county', 'year'],\n",
    "                                            how='outer'), dfs)\n",
    "\n",
    "#Use the join type that is appropriate for your data, check the documentation! \n",
    "\n",
    "# As always, check to make sure you have the data format/results you are expecting\n",
    "county_year_df.head()"
   ]
  },
  {
   "cell_type": "code",
   "execution_count": null,
   "id": "d6080fbf",
   "metadata": {
    "scrolled": true
   },
   "outputs": [],
   "source": [
    "### Pro-tip #5: Check to make sure there are no Null and NaN that could mess up calculations later\n",
    "county_year_df.isnull().sum()"
   ]
  },
  {
   "cell_type": "code",
   "execution_count": null,
   "id": "cf1881be",
   "metadata": {},
   "outputs": [],
   "source": [
    "# Univariate Total Crimes, State-wide\n",
    "year_df = results_df.groupby([\"year\"], as_index=False)[\"total_index_crimes\"].sum()"
   ]
  },
  {
   "cell_type": "code",
   "execution_count": null,
   "id": "424a3d32",
   "metadata": {
    "scrolled": true
   },
   "outputs": [],
   "source": [
    "### Pro-tip #6: Delete temporary / old datasets \n",
    "\n",
    "# The Combined Data looks good, so let's delete our old data to save memory this makes a big difference on larger data\n",
    "del results_df\n",
    "del crimes_total_df \n",
    "del violent_crimes_df \n",
    "del property_crimes_df"
   ]
  },
  {
   "cell_type": "code",
   "execution_count": null,
   "id": "57575b1e",
   "metadata": {
    "scrolled": true
   },
   "outputs": [],
   "source": [
    "# Calculate Z Scores by County to Normalize County Level Differences\n",
    "# This will help us look at county level trends and not comparisons across counties with different size and demographics\n",
    "# Another approach to this would be to get population levels and look at crimes per capita\n",
    "\n",
    "from scipy.stats import zscore\n",
    "\n",
    "county_year_df['index_Z']=county_year_df.groupby(['county']).index_total.transform(lambda x : zscore(x,ddof=1))\n",
    "county_year_df['violent_Z']=county_year_df.groupby(['county']).violent_total.transform(lambda x : zscore(x,ddof=1))\n",
    "county_year_df['property_Z']=county_year_df.groupby(['county']).property_total.transform(lambda x : zscore(x,ddof=1))\n",
    "\n",
    "county_year_df.head()"
   ]
  },
  {
   "cell_type": "markdown",
   "id": "6932a788",
   "metadata": {},
   "source": [
    "## Step 4: Data Analysis\n",
    "<hr>"
   ]
  },
  {
   "cell_type": "code",
   "execution_count": null,
   "id": "ba761b05",
   "metadata": {
    "scrolled": false
   },
   "outputs": [],
   "source": [
    "# Pivot Tables help you to \"see\" your data.\n",
    "\n",
    "# Overall Crime Index, you can see which years were the worst in each county\n",
    "# Since these are Z-scores, they are standard deviations above or below the mean. (higher is worse)\n",
    "\n",
    "pivot = np.round(pd.pivot_table(county_year_df, values='index_Z', \n",
    "                                index='county', \n",
    "                                columns='year', \n",
    "                                aggfunc=np.sum), decimals=2)\n",
    "pivot\n",
    "\n",
    "# Although We can see a trend in the pivot-data, having a chart will \n",
    "# help to tell the story\n",
    "\n",
    "# The pivot table is a good way to get a peak into the data\n",
    "# For the purpose of this walkthrough, we will only look at total_index"
   ]
  },
  {
   "cell_type": "code",
   "execution_count": null,
   "id": "80bc2d66",
   "metadata": {},
   "outputs": [],
   "source": []
  },
  {
   "cell_type": "code",
   "execution_count": null,
   "id": "42853105",
   "metadata": {
    "scrolled": true
   },
   "outputs": [],
   "source": [
    "# Sometimes you may need interactive tables.  This is the code for those that prefer an interactive Pivot Table\n",
    "# Un-Comment 2 lines below for Interactive Pivot Tables\n",
    "\n",
    "#from pivottablejs import pivot_ui\n",
    "#pivot_ui(county_year_df, outfile_path='pivottablejs.html')\n"
   ]
  },
  {
   "cell_type": "markdown",
   "id": "dec0948a",
   "metadata": {},
   "source": [
    "# Step 5: Data Visualizations\n",
    "<hr>"
   ]
  },
  {
   "cell_type": "code",
   "execution_count": null,
   "id": "4230a5b3",
   "metadata": {},
   "outputs": [],
   "source": [
    "# Showing a few common over-rides to the basic plots because readability is important and oddly hard to understand"
   ]
  },
  {
   "cell_type": "code",
   "execution_count": null,
   "id": "6a07fa02",
   "metadata": {},
   "outputs": [],
   "source": [
    "import seaborn as sns\n",
    "import matplotlib as mpl\n",
    "import matplotlib.pyplot as plt\n",
    "\n",
    "# Remove the Right and top bars from the graph and give a white background\n",
    "custom_params = {\"axes.spines.right\": False, \"axes.spines.top\": False, 'figure.figsize':(10,4)}\n",
    "sns.set_theme(style=\"white\", font_scale=1, rc=custom_params)\n",
    "ax = sns.lineplot(x=\"year\", y=\"total_index_crimes\", data=year_df)\n",
    "ax.set(xlabel='Year', ylabel='Total Index Crimes',title='NYS Total Crimes 2011-2021')\n",
    "\n",
    "# Format the Y-axis to have a comma format\n",
    "ax.yaxis.set_major_formatter(mpl.ticker.StrMethodFormatter('{x:,.0f}'))\n",
    "plt.show()"
   ]
  },
  {
   "cell_type": "markdown",
   "id": "cfd3b8aa",
   "metadata": {},
   "source": [
    "### <center><u>Finding #1</u></center>\n",
    "Total Crimes were decreasing; however, there has been a uptick consistently since 2018. So is there a reasonable explanation for why people think there is a decrease in crime?\n"
   ]
  },
  {
   "cell_type": "code",
   "execution_count": null,
   "id": "335217db",
   "metadata": {
    "scrolled": false
   },
   "outputs": [],
   "source": [
    "# Let's Distribution of Index_Z by County in a box-plot\n",
    "# The pivot table indiactes a pattern, but what is it? \n",
    "\n",
    "custom_params = {\"axes.spines.right\": False, \"axes.spines.top\": False, 'figure.figsize':(10,4)}\n",
    "sns.set_theme(style=\"white\", font_scale=1, rc=custom_params)\n",
    "sns.boxplot(y=county_year_df[\"index_Z\"], x=county_year_df[\"county\"], color=\"#7894bf\").set(xlabel='Counties',ylabel='Total Crime Z-Scores',title='NYS Total Crime Z-Scores 2011-2021 by County');\n",
    "\n",
    "plt.xticks(rotation=90)\n",
    "plt.show()"
   ]
  },
  {
   "cell_type": "code",
   "execution_count": null,
   "id": "0a4a1695",
   "metadata": {
    "scrolled": false
   },
   "outputs": [],
   "source": [
    "# Seaborn can produce some nice graphs; however, plotly is interactive\n",
    "# and the interactivity can help you determine datapoints of interest (outliers)\n",
    "\n",
    "import plotly.express as px\n",
    "\n",
    "fig = px.box(county_year_df, y=\"index_Z\", x=\"county\",  \n",
    "             labels={\"county\": \"Counties\",\n",
    "                     \"index_Z\": \"Total Crime Z-Scores\"},\n",
    "             title=\"NYS Total Crime Z-Scores 2011-2021 by County\",\n",
    "             color=\"county\",\n",
    "             color_discrete_sequence=[\"#002D72\", \"#002D72\"])\n",
    "fig.update_layout({'plot_bgcolor':'rgba(0,0,0,0)',\n",
    "                   'paper_bgcolor':'rgba(0,0,0,0)'})\n",
    "fig.update_layout(title_x=.3)\n",
    "fig.update_layout(width=900, height=480)\n",
    "fig.update_layout(showlegend=False)\n",
    "fig.update_xaxes(showline=True, linewidth=2, linecolor='black')\n",
    "fig.update_yaxes(showline=True, linewidth=2, linecolor='black')\n",
    "\n",
    "fig.show()"
   ]
  },
  {
   "cell_type": "code",
   "execution_count": null,
   "id": "70acbcf4",
   "metadata": {
    "scrolled": true
   },
   "outputs": [],
   "source": [
    "### Pro-tip #7 Leave comments and interpretations/findings so you can\n",
    "### follow your train of thought after days/weeks/months/years\n",
    "### headings help the finding stand out"
   ]
  },
  {
   "cell_type": "markdown",
   "id": "73fc4630",
   "metadata": {},
   "source": [
    "### <center><u>Finding #2</u></center>\n",
    "\n",
    "Bronx & Otsego counties have years with total crime spikes 2.45 and 2.16 higher than the standard deviation. \n",
    "\n",
    "Each county is consistent internally with the distribution of Z-scores for their crimes. <hr>"
   ]
  },
  {
   "cell_type": "code",
   "execution_count": null,
   "id": "ceff3497",
   "metadata": {
    "scrolled": false
   },
   "outputs": [],
   "source": [
    "# Let's Distribution of Index_Z by County in a box-plot\n",
    "# Seaborn makes decent univariate plots that are a good starting point for data analysis\n",
    "\n",
    "custom_params = {\"axes.spines.right\": False, \"axes.spines.top\": False, 'figure.figsize':(10,4)}\n",
    "sns.set_theme(style=\"white\", font_scale=1, rc=custom_params)\n",
    "\n",
    "fig = sns.boxplot(y=county_year_df[\"index_Z\"], x=county_year_df[\"year\"], color=\"#7894bf\" ).set(xlabel='Year', ylabel='Total Crime Z-Scores', title='NYS Total Crime Z-Scores 2011-2021 by Year');\n",
    "\n",
    "plt.show()"
   ]
  },
  {
   "cell_type": "code",
   "execution_count": null,
   "id": "6a46b639",
   "metadata": {
    "scrolled": false
   },
   "outputs": [],
   "source": [
    "fig = px.box(county_year_df, y=\"index_Z\", x=\"year\",\n",
    "            labels={\"year\": \"Year\",\n",
    "                     \"index_Z\": \"Total Crime Z-Scores\"},\n",
    "             title=\"NYS Total Crime Z-Scores 2011-2021 by Year\", \n",
    "             color=\"year\",\n",
    "             color_discrete_sequence=[\"#002D72\", \"#002D72\"])\n",
    "fig.update_layout({'plot_bgcolor':'rgba(0,0,0,0)',\n",
    "                   'paper_bgcolor':'rgba(0,0,0,0)'})\n",
    "\n",
    "fig.update_layout(title_x=.3)\n",
    "fig.update_layout(showlegend=False)\n",
    "fig.update_xaxes(showline=True, linewidth=2, linecolor='black')\n",
    "fig.update_yaxes(showline=True, linewidth=2, linecolor='black')\n",
    "fig.show()"
   ]
  },
  {
   "cell_type": "markdown",
   "id": "1b4e9807",
   "metadata": {},
   "source": [
    "### <center><u>Finding #3</u></center>\n",
    "Over time, the Crime Index appears to decrease for most counties; however, some counties have large spikes in 2021and occur despite the overall trend.<hr>\n"
   ]
  },
  {
   "cell_type": "code",
   "execution_count": null,
   "id": "b58428ee",
   "metadata": {
    "scrolled": true
   },
   "outputs": [],
   "source": [
    "# County Map Chlorplast\n",
    "\n",
    "# Add a FIPS code to our data so we can plot with county map in New York\n",
    "# This could be done other ways; however, I want to highlight a case-type statement as a way to create \n",
    "# A new variable in a dataset that wasn't a basic calculation. Notice the crazy amount of ) at the end\n",
    "# Fips codes can be found: https://transition.fcc.gov/oet/info/maps/census/fips/fips.txt#:~:text=FIPS%20codes%20are%20numbers%20which,to%20which%20the%20county%20belongs.\n",
    "\n",
    "\n",
    "### Pro-tip #8 - \"numbers\" that are identifiers should be stored as strings\n",
    "# In this case I have assigned fips code to be a string instead of a number, because like zipcode and areacode\n",
    "# it is an identifier and not a literal value where the numeric increase indicates a scalar difference\n",
    "\n",
    "# This could also be a custom function, data table in a database, or if-else if style below\n",
    "county_year_df['fips'] = np.where(county_year_df['county'] == 'Albany', '36001', \n",
    "                              np.where(county_year_df['county'] == 'Allegany', '36003',\n",
    "                              np.where(county_year_df['county'] == 'Bronx', '36005',\n",
    "                              np.where(county_year_df['county'] == 'Broome', '36007',\n",
    "                              np.where(county_year_df['county'] == 'Cattaraugus', '36009',\n",
    "                              np.where(county_year_df['county'] == 'Cayuga', '36011',\n",
    "                              np.where(county_year_df['county'] == 'Chautauqua', '36013',\n",
    "                              np.where(county_year_df['county'] == 'Chemung', '36015',     \n",
    "                              np.where(county_year_df['county'] == 'Chenango', '36017',         \n",
    "                              np.where(county_year_df['county'] == 'Clinton', '36019', \n",
    "                              np.where(county_year_df['county'] == 'Columbia', '36021',         \n",
    "                              np.where(county_year_df['county'] == 'Cortland', '36023',         \n",
    "                              np.where(county_year_df['county'] == 'Delaware', '36025',         \n",
    "                              np.where(county_year_df['county'] == 'Dutchess', '36027',         \n",
    "                              np.where(county_year_df['county'] == 'Erie', '36029', \n",
    "                              np.where(county_year_df['county'] == 'Essex', '36031',         \n",
    "                              np.where(county_year_df['county'] == 'Franklin', '36033',         \n",
    "                              np.where(county_year_df['county'] == 'Fulton', '36035',         \n",
    "                              np.where(county_year_df['county'] == 'Genesee', '36037',    \n",
    "                              np.where(county_year_df['county'] == 'Greene', '36039',         \n",
    "                              np.where(county_year_df['county'] == 'Hamilton', '36041',         \n",
    "                              np.where(county_year_df['county'] == 'Herkimer', '36043',         \n",
    "                              np.where(county_year_df['county'] == 'Jefferson', '36045',         \n",
    "                              np.where(county_year_df['county'] == 'Kings', '36047',         \n",
    "                              np.where(county_year_df['county'] == 'Lewis', '36049',         \n",
    "                              np.where(county_year_df['county'] == 'Livingston', '36051',         \n",
    "                              np.where(county_year_df['county'] == 'Madison', '36053',         \n",
    "                              np.where(county_year_df['county'] == 'Monroe', '36055',         \n",
    "                              np.where(county_year_df['county'] == 'Montgomery', '36057', \n",
    "                              np.where(county_year_df['county'] == 'Nassau', '36059',         \n",
    "                              np.where(county_year_df['county'] == 'New York', '36061',         \n",
    "                              np.where(county_year_df['county'] == 'Niagara', '36063',        \n",
    "                              np.where(county_year_df['county'] == 'Oneida', '36065',         \n",
    "                              np.where(county_year_df['county'] == 'Onondaga', '36067',         \n",
    "                              np.where(county_year_df['county'] == 'Ontario', '36069',         \n",
    "                              np.where(county_year_df['county'] == 'Orange', '36071',         \n",
    "                              np.where(county_year_df['county'] == 'Orleans', '36073',         \n",
    "                              np.where(county_year_df['county'] == 'Oswego', '36075',         \n",
    "                              np.where(county_year_df['county'] == 'Otsego', '36077', \n",
    "                              np.where(county_year_df['county'] == 'Putnam', '36079',         \n",
    "                              np.where(county_year_df['county'] == 'Queens', '36081',         \n",
    "                              np.where(county_year_df['county'] == 'Rensselaer', '36083',         \n",
    "                              np.where(county_year_df['county'] == 'Richmond', '36085', \n",
    "                              np.where(county_year_df['county'] == 'Rockland', '36087',         \n",
    "                              np.where(county_year_df['county'] == 'St Lawrence', '36089',         \n",
    "                              np.where(county_year_df['county'] == 'Saratoga', '36091',         \n",
    "                              np.where(county_year_df['county'] == 'Schenectady', '36093',         \n",
    "                              np.where(county_year_df['county'] == 'Schoharie', '36095',         \n",
    "                              np.where(county_year_df['county'] == 'Schuyler', '36097',         \n",
    "                              np.where(county_year_df['county'] == 'Seneca', '36099',         \n",
    "                              np.where(county_year_df['county'] == 'Steuben', '36101',         \n",
    "                              np.where(county_year_df['county'] == 'Suffolk', '36103',         \n",
    "                              np.where(county_year_df['county'] == 'Sullivan', '36105',         \n",
    "                              np.where(county_year_df['county'] == 'Tioga', '36107',         \n",
    "                              np.where(county_year_df['county'] == 'Tompkins', '36109',   \n",
    "                              np.where(county_year_df['county'] == 'Ulster', '36111',          \n",
    "                              np.where(county_year_df['county'] == 'Warren', '36113',         \n",
    "                              np.where(county_year_df['county'] == 'Washington', '36115',         \n",
    "                              np.where(county_year_df['county'] == 'Wayne', '36117',   \n",
    "                              np.where(county_year_df['county'] == 'Westchester', '36119',         \n",
    "                              np.where(county_year_df['county'] == 'Wyoming', '36121',         \n",
    "                              np.where(county_year_df['county'] == 'Yates', '36123', ''))))))))))))))))))))))))))))))))))))))))))))))))))))))))))))))         \n",
    "\n",
    "### Pro-tip #9 - Strategically assign NaN or '' to ensure manual coding worked\n"
   ]
  },
  {
   "cell_type": "code",
   "execution_count": null,
   "id": "392331f0",
   "metadata": {
    "scrolled": false
   },
   "outputs": [],
   "source": [
    "# Verify a 1-1 relationship of county and fips\n",
    "county_year_df.groupby(['county', 'fips']).count()"
   ]
  },
  {
   "cell_type": "code",
   "execution_count": null,
   "id": "b728c746",
   "metadata": {
    "scrolled": true
   },
   "outputs": [],
   "source": [
    "# Verify no NaNs\n",
    "county_year_df.isnull().sum()"
   ]
  },
  {
   "cell_type": "code",
   "execution_count": null,
   "id": "08b17fbf",
   "metadata": {
    "scrolled": false
   },
   "outputs": [],
   "source": [
    "# Visualize with a slider to adjust view over time\n",
    "\n",
    "from urllib.request import urlopen\n",
    "import json\n",
    "with urlopen('https://raw.githubusercontent.com/plotly/datasets/master/geojson-counties-fips.json') as response:\n",
    "    counties = json.load(response)\n",
    "\n",
    "#Filter out to only have New York State Counties    \n",
    "target_state = ['36']  #FIPS for New York State is 36\n",
    "counties['features'] = [f for f in counties['features'] if f['properties']['STATE'] in target_state]\n",
    "\n",
    "#Center on Madison County, \n",
    "fig = px.choropleth_mapbox(county_year_df, geojson=counties, locations='fips', color='index_Z',\n",
    "                           color_continuous_scale=\"blues\",\n",
    "                           range_color=(-3,3),\n",
    "                           animation_frame='year',\n",
    "                           animation_group='fips',\n",
    "                           hover_name='county',\n",
    "                           mapbox_style='carto-positron',\n",
    "                           zoom=5,\n",
    "                           center={'lat': 42.9806,\n",
    "                                   'lon': -75.8069},\n",
    "                           labels={'index_Z':'County Crime Index'}\n",
    "                          )\n",
    "fig.update_layout(margin={\"r\":20,\"t\":20,\"l\":20,\"b\":20})\n",
    "fig.update_layout({'title' : {'text' : 'New York State Total Crime Z-Scores', 'x' : 0.25, 'y':1}})\n",
    "fig.update_layout()\n",
    "fig.show()\n"
   ]
  },
  {
   "cell_type": "code",
   "execution_count": null,
   "id": "11a95cc1",
   "metadata": {
    "scrolled": true
   },
   "outputs": [],
   "source": [
    "### Pro-tip 10 - Always consider your audience/viewer when presenting \n",
    "### numbers/charts/graphs.\n",
    "\n",
    "# Most end consumers don't understand z-scores to non-standard scaling \n",
    "# Let's adjust or z-score -> 0-100 to make it easier to explain/understand\n",
    "\n",
    "index_min = county_year_df['index_Z'].min()\n",
    "index_max = county_year_df['index_Z'].max()\n",
    "\n",
    "### Pro-tip 11 - Explain forumlas in comments, complex formulas can be\n",
    "### challenging to remember / explain days/months/years later or \n",
    "### for someone else maintaining your code after you leave. \n",
    "\n",
    "# Add the absolute value of minimum to bring new minimum to zero\n",
    "# Then divide by the max + abs(min) to make it 0-1\n",
    "# Multiple by 100 and round to nearest whole number\n",
    "county_year_df['index_Z_scaled'] = ((county_year_df['index_Z'] + abs(index_min)) / (index_max + abs(index_min)) * 100).round(decimals=0)"
   ]
  },
  {
   "cell_type": "code",
   "execution_count": null,
   "id": "9a405075",
   "metadata": {
    "scrolled": false
   },
   "outputs": [],
   "source": [
    "# Check and make sure the new variable does run from 0-100\n",
    "\n",
    "# Set the color to be the Blue from the New York State map (#002d72)\n",
    "# Include frequency counts to see relative distribution of Z-scores\n",
    "\n",
    "custom_params = {\"axes.spines.right\": False, \"axes.spines.top\": False, 'figure.figsize':(10,4)}\n",
    "sns.set_theme(style=\"white\", font_scale=1, rc=custom_params)\n",
    "\n",
    "y = sns.histplot(data=county_year_df, x=\"index_Z_scaled\", bins=10, color='#002d72')\n",
    "y.set(xlabel='Z-Score Scale Values by Decile', ylabel=' Frequency', title='Z-Scores Transformed 0-100')\n",
    "y.bar_label(y.containers[0])\n",
    "y.set_xticks([5,15,25,35,45,55,65,75,85,95],[10,20,30,40,50,60,70,80,90,100])\n",
    "plt.xlim(0,100)\n",
    "plt.show()"
   ]
  },
  {
   "cell_type": "code",
   "execution_count": null,
   "id": "eafa02cd",
   "metadata": {
    "scrolled": false
   },
   "outputs": [],
   "source": [
    "# Finally, re-graph the map with the new Scaled Values\n",
    "# The colors should look the same as the other map; however, showing a 0-100 scale may be easier to explain than -3 to 3\n",
    "# Re-center the title so it spans the New York State physical geography\n",
    "\n",
    "fig = px.choropleth_mapbox(county_year_df, geojson=counties, locations='fips', color='index_Z_scaled',\n",
    "                           color_continuous_scale=\"blues\",\n",
    "                           range_color=(0, 100),\n",
    "                           animation_frame='year',\n",
    "                           animation_group='fips',\n",
    "                           hover_name='county',\n",
    "                           mapbox_style='carto-positron',\n",
    "                           zoom=5,\n",
    "                           center={'lat': 42.9806,\n",
    "                                   'lon': -75.8069},                         \n",
    "                           labels={'index_Z_scaled':'County Crime Index'}\n",
    "                          )\n",
    "fig.update_layout(margin={\"r\":20,\"t\":20,\"l\":20,\"b\":20})\n",
    "fig.update_layout({'title' : {'text' : 'New York State Total Crime Z-Scores Scaled', 'x' : 0.21, 'y':1}})\n",
    "fig.update_layout()\n",
    "fig.show()"
   ]
  },
  {
   "cell_type": "markdown",
   "id": "0ffa78c4",
   "metadata": {},
   "source": [
    "### <center><u>Finding #4</u></center>\n",
    "As a whole, total crime decreases across the state; however, severe and large spikes happen in NYC/Bronx/Kings/Queens in the year 2021. \n",
    "<hr>"
   ]
  },
  {
   "cell_type": "code",
   "execution_count": null,
   "id": "15773351",
   "metadata": {
    "scrolled": true
   },
   "outputs": [],
   "source": [
    "### Pro-tip 12: Consistently utilize headers and formating \n",
    "### to make your report easy to read and include conclusions / about sections \n",
    "### break up code blocks to make processes easier to see/follow"
   ]
  },
  {
   "cell_type": "markdown",
   "id": "e81eaa91",
   "metadata": {},
   "source": [
    "# <u>Data Conclusions</u>\n",
    "<ol>\n",
    "    <li>The total number of crimes statewide has been mostly decreasing for ten years (univariate line plot).</li>\n",
    "    <li>The number of total crimes in each county were relatively consistent year over year (bounty box-plots) with a general trend to a fewer crimes for most counties in a county by county basis (year vs crimes box-plots).</li>\n",
    "    <li>Crime spikes in and around the New York City metro area in 2021 were relatively large especially compared to the overall decreasing trend (choropleth)</li>\n",
    "</ol>"
   ]
  },
  {
   "cell_type": "markdown",
   "id": "36282330",
   "metadata": {},
   "source": [
    "# <u>Recommendations / Next Steps</u>\n",
    "<ol>\n",
    "    <li>Analysis of the data using per-capita instead of Z-scores may be helpful in presenting findings.</li>\n",
    "    <li>Analysis of violent and property crimes and their comparison versus the total may be helpful.</li>\n",
    "    <li>Experimentation with Machine Learning algorithms with other state data may predict/classify.</li>\n",
    "</ol>"
   ]
  },
  {
   "cell_type": "markdown",
   "id": "04a7619f",
   "metadata": {},
   "source": [
    "# <u>About the Author</u>\n",
    "\n",
    "Samuel Sanfratello is a Data Scientist for Rochester Analytics. He has a Master of Science in Applied Business Analytics from American Public Univserity and is a proud member of the Alumni Advisory Council.<br>\n",
    "\n",
    "\n",
    "Web: <a href=\"https://rochesteranalytics.com?utm_source=pycode&utm_medium=about&utm_campaign=nycrimvis\"> https://rochesteranalytics.com</a><br>\n",
    "Twitter: https://twitter.com/RocAnalytics<br>\n",
    "LinkedIn: https://www.linkedin.com/in/samuel-sanfratello/<br>\n",
    "LinkedIn (Company Page): https://www.linkedin.com/company/rochester-analytics/<br>\n",
    "Portfolium: https://portfolium.com/SamuelSanfrate/portfolio<br>\n",
    "GitHub: https://github.com/SamSanfratello/roc_public\n"
   ]
  },
  {
   "cell_type": "code",
   "execution_count": null,
   "id": "cace9872",
   "metadata": {
    "scrolled": true
   },
   "outputs": [],
   "source": []
  }
 ],
 "metadata": {
  "kernelspec": {
   "display_name": "Python 3 (ipykernel)",
   "language": "python",
   "name": "python3"
  },
  "language_info": {
   "codemirror_mode": {
    "name": "ipython",
    "version": 3
   },
   "file_extension": ".py",
   "mimetype": "text/x-python",
   "name": "python",
   "nbconvert_exporter": "python",
   "pygments_lexer": "ipython3",
   "version": "3.9.13"
  }
 },
 "nbformat": 4,
 "nbformat_minor": 5
}
